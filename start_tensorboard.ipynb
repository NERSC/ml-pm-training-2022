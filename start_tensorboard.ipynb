{
 "cells": [
  {
   "cell_type": "markdown",
   "id": "314d73bf-204b-410b-9b58-4db9a461e1c4",
   "metadata": {},
   "source": [
    "# TensorBoard Launcher\n",
    "\n",
    "This notebook allows you to start TensorBoard on Perlmutter and view it in a normal browser tab.\n",
    "\n",
    "The notebook code below assumes you are using the hands-on tutorial path for tensorboard logs.\n",
    "\n",
    "When you run the cells below, TensorBoard will start but will not display here in the notebook. Instead, the final cell which calls `tensorboard_helper.tb_address()` will display a URL that you can click to open a new tab with TensorBoard."
   ]
  },
  {
   "cell_type": "code",
   "execution_count": null,
   "id": "e9f1807c-e685-407d-85c4-6a541336d19c",
   "metadata": {},
   "outputs": [],
   "source": [
    "import os\n",
    "import utils.tb_helper as tensorboard_helper\n",
    "\n",
    "%load_ext tensorboard"
   ]
  },
  {
   "cell_type": "code",
   "execution_count": null,
   "id": "b95365cc-256d-4bbe-800b-26ee2fdca21e",
   "metadata": {},
   "outputs": [],
   "source": [
    "log_dir = './logs'"
   ]
  },
  {
   "cell_type": "code",
   "execution_count": null,
   "id": "c86e34c8-cdd3-4436-8939-f9d24faf80b0",
   "metadata": {
    "tags": []
   },
   "outputs": [],
   "source": [
    "%%capture\n",
    "%tensorboard --logdir $log_dir --port 0"
   ]
  },
  {
   "cell_type": "code",
   "execution_count": null,
   "id": "dcb87cde-89da-40f8-a985-b09f78f791a5",
   "metadata": {},
   "outputs": [],
   "source": [
    "tensorboard_helper.tb_address()"
   ]
  }
 ],
 "metadata": {
  "kernelspec": {
   "display_name": "pytorch-1.9.0",
   "language": "python",
   "name": "pytorch-1.9.0"
  },
  "language_info": {
   "codemirror_mode": {
    "name": "ipython",
    "version": 3
   },
   "file_extension": ".py",
   "mimetype": "text/x-python",
   "name": "python",
   "nbconvert_exporter": "python",
   "pygments_lexer": "ipython3",
   "version": "3.8.11"
  }
 },
 "nbformat": 4,
 "nbformat_minor": 5
}
